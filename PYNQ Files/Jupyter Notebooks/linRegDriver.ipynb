{
 "cells": [
  {
   "cell_type": "markdown",
   "id": "a69c9e53",
   "metadata": {},
   "source": [
    "# Fixed Point Linear Regression on an FPGA"
   ]
  },
  {
   "cell_type": "code",
   "execution_count": 1,
   "id": "57cb1f77",
   "metadata": {},
   "outputs": [],
   "source": [
    "from fixedpoint import FixedPoint\n",
    "from pynq import Overlay\n",
    "from pynq import DefaultIP\n",
    "import matplotlib.pyplot as plt\n",
    "import numpy as np"
   ]
  },
  {
   "cell_type": "code",
   "execution_count": 2,
   "id": "9bf31314",
   "metadata": {},
   "outputs": [],
   "source": [
    "class linRegPredDriver(DefaultIP):\n",
    "    def __init__(self, description):\n",
    "        super().__init__(description=description)\n",
    "        \n",
    "    bindto = ['xilinx.com:hls:calcXTX:1.0']\n",
    "    \n",
    "    #given array[8] of floats, x and y, will perform linear regression and return best fit y's for same input x's\n",
    "    def linReg(self, xFloat, yFloat):\n",
    "        \n",
    "        xFixed = [FixedPoint(x, True, 16, 16) for x in xFloat]\n",
    "        yFixed = [FixedPoint(y, True, 16, 16) for y in yFloat]\n",
    "        \n",
    "        intBits = []\n",
    "        for x in xFixed:\n",
    "            intBits.append(int(x.bits))\n",
    "\n",
    "        for y in yFixed:\n",
    "            intBits.append(int(y.bits))\n",
    "\n",
    "        for i in range(0, 16, 1):\n",
    "            self.write(i*8+16, intBits[i])\n",
    "        self.write(0x00, 1)\n",
    "        \n",
    "        qformat = {'signed': True, 'm': 16, 'n': 16}\n",
    "        retFixed = FixedPoint(0, **qformat)\n",
    "        yOut = []\n",
    "        for i in range(0, 8, 1):\n",
    "            out = self.read((i*16)+0x90)\n",
    "            retFixed.from_string(hex(out))\n",
    "            yOut.append(float(retFixed))\n",
    "            \n",
    "        return yOut"
   ]
  },
  {
   "cell_type": "code",
   "execution_count": 3,
   "id": "55dce5c0",
   "metadata": {},
   "outputs": [
    {
     "data": {
      "application/javascript": [
       "\n",
       "try {\n",
       "require(['notebook/js/codecell'], function(codecell) {\n",
       "  codecell.CodeCell.options_default.highlight_modes[\n",
       "      'magic_text/x-csrc'] = {'reg':[/^%%microblaze/]};\n",
       "  Jupyter.notebook.events.one('kernel_ready.Kernel', function(){\n",
       "      Jupyter.notebook.get_cells().map(function(cell){\n",
       "          if (cell.cell_type == 'code'){ cell.auto_highlight(); } }) ;\n",
       "  });\n",
       "});\n",
       "} catch (e) {};\n"
      ]
     },
     "metadata": {},
     "output_type": "display_data"
    },
    {
     "data": {
      "application/javascript": [
       "\n",
       "try {\n",
       "require(['notebook/js/codecell'], function(codecell) {\n",
       "  codecell.CodeCell.options_default.highlight_modes[\n",
       "      'magic_text/x-csrc'] = {'reg':[/^%%pybind11/]};\n",
       "  Jupyter.notebook.events.one('kernel_ready.Kernel', function(){\n",
       "      Jupyter.notebook.get_cells().map(function(cell){\n",
       "          if (cell.cell_type == 'code'){ cell.auto_highlight(); } }) ;\n",
       "  });\n",
       "});\n",
       "} catch (e) {};\n"
      ]
     },
     "metadata": {},
     "output_type": "display_data"
    }
   ],
   "source": [
    "overlay = Overlay('/home/xilinx/pynq/overlays/linRegOverlays/directImp_v3.bit')\n",
    "#overlay?"
   ]
  },
  {
   "cell_type": "code",
   "execution_count": 4,
   "id": "b04f14ca",
   "metadata": {},
   "outputs": [],
   "source": [
    "X_float = [-1.1, 0.1, 1.2, 2.3, 3.1, 4.1, 4.8, 5.7]\n",
    "y_float = [-1.7, 2.4, 5.0, 7.3, 10.9, 12.5, 16.2, 19.7]"
   ]
  },
  {
   "cell_type": "code",
   "execution_count": 5,
   "id": "b50710ec",
   "metadata": {},
   "outputs": [],
   "source": [
    "X_float = [-4.0, -3.3, -2.2, -0.7, 0.1, 1.1, 2.3, 3.4]\n",
    "y_float = [8.5, 7.6, 5.2, 3.9, 2.1, 0.8, 0.3, -2.1]"
   ]
  },
  {
   "cell_type": "code",
   "execution_count": 6,
   "id": "6d590367",
   "metadata": {},
   "outputs": [
    {
     "name": "stdout",
     "output_type": "stream",
     "text": [
      "[-29.48946419 -20.25098175 -19.99812154 -18.85281397   2.12738397\n",
      "  14.52540465  26.50526508  27.02662388] [-33.97084156 -19.88727844  -6.65106226  -0.50924704   1.38651786\n",
      "   8.5166059   17.32425895  28.7143679 ]\n"
     ]
    }
   ],
   "source": [
    "absMax = 35.0\n",
    "X_float = np.sort(np.random.uniform(low=-absMax, high=absMax, size=(8,)))\n",
    "y_float = np.sort(np.random.uniform(low=-absMax, high=absMax, size=(8,)))\n",
    "print(X_float, y_float)"
   ]
  },
  {
   "cell_type": "code",
   "execution_count": 7,
   "id": "b8321b1b",
   "metadata": {},
   "outputs": [
    {
     "name": "stdout",
     "output_type": "stream",
     "text": [
      "[-19.83221435546875, -13.297348022460938, -13.118484497070312, -12.308349609375, 2.532012939453125, 11.301788330078125, 19.7757568359375, 20.144546508789062]\n",
      "CPU times: user 11.9 ms, sys: 144 µs, total: 12 ms\n",
      "Wall time: 12 ms\n"
     ]
    }
   ],
   "source": [
    "%%time\n",
    "results = overlay.linReg.linReg(X_float, y_float)\n",
    "print(results)"
   ]
  },
  {
   "cell_type": "code",
   "execution_count": 8,
   "id": "14b07701",
   "metadata": {},
   "outputs": [
    {
     "data": {
      "text/plain": [
       "[<matplotlib.lines.Line2D at 0xac148ee0>]"
      ]
     },
     "execution_count": 8,
     "metadata": {},
     "output_type": "execute_result"
    },
    {
     "data": {
      "image/png": "[encoded data removed]",
      "text/plain": [
       "<Figure size 432x288 with 1 Axes>"
      ]
     },
     "metadata": {
      "needs_background": "light"
     },
     "output_type": "display_data"
    }
   ],
   "source": [
    "plt.plot(X_float, y_float, color = \"#FF0000\") #Red is generated numbers\n",
    "plt.plot(X_float, results, color = \"#0000FF\") #Blue is hardware output line of best fit"
   ]
  },
  {
   "cell_type": "code",
   "execution_count": 9,
   "id": "83d9a39e",
   "metadata": {
    "scrolled": true
   },
   "outputs": [
    {
     "name": "stdout",
     "output_type": "stream",
     "text": [
      "Computed parameters: [1.41397352 3.01921841]\n",
      "Training data  Prediction     Euclidean distance\n",
      "(x, y)         Python                        \n",
      "(-1.1, -1.7)   -1.90717       0.20717        \n",
      "(0.1, 2.4)     1.71590        0.68410        \n",
      "(1.2, 5.0)     5.03704        0.03704        \n",
      "(2.3, 7.3)     8.35818        1.05818        \n",
      "(3.1, 10.9)    10.77355       0.12645        \n",
      "(4.1, 12.5)    13.79277       1.29277        \n",
      "(4.8, 16.2)    15.90622       0.29378        \n",
      "(5.7, 19.7)    18.62352       1.07648        \n",
      "CPU times: user 148 ms, sys: 48.4 ms, total: 197 ms\n",
      "Wall time: 1.73 s\n"
     ]
    }
   ],
   "source": [
    "%%time\n",
    "!python /home/xilinx/python/linear_regression_1.py"
   ]
  },
  {
   "cell_type": "code",
   "execution_count": null,
   "id": "44a72188",
   "metadata": {},
   "outputs": [],
   "source": []
  }
 ],
 "metadata": {
  "kernelspec": {
   "display_name": "Python 3 (ipykernel)",
   "language": "python",
   "name": "python3"
  },
  "language_info": {
   "codemirror_mode": {
    "name": "ipython",
    "version": 3
   },
   "file_extension": ".py",
   "mimetype": "text/x-python",
   "name": "python",
   "nbconvert_exporter": "python",
   "pygments_lexer": "ipython3",
   "version": "3.10.4"
  }
 },
 "nbformat": 4,
 "nbformat_minor": 5
}
