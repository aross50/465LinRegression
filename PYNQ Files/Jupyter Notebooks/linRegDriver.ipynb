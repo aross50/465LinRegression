{
 "cells": [
  {
   "cell_type": "code",
   "execution_count": 1,
   "id": "57cb1f77",
   "metadata": {},
   "outputs": [],
   "source": [
    "from fixedpoint import FixedPoint\n",
    "from pynq import Overlay\n",
    "from pynq import DefaultIP"
   ]
  },
  {
   "cell_type": "code",
   "execution_count": 2,
   "id": "9bf31314",
   "metadata": {},
   "outputs": [],
   "source": [
    "class linRegPredDriver(DefaultIP):\n",
    "    def __init__(self, description):\n",
    "        super().__init__(description=description)\n",
    "        \n",
    "    bindto = ['xilinx.com:hls:calcXTX:1.0']\n",
    "    \n",
    "    #given array[8] of floats, x and y, will perform linear regression and return best fit y's for same input x's\n",
    "    def linReg(self, xFloat, yFloat):\n",
    "        \n",
    "        xFixed = [FixedPoint(x, True, 16, 16) for x in xFloat]\n",
    "        yFixed = [FixedPoint(y, True, 16, 16) for y in yFloat]\n",
    "        \n",
    "        intBits = []\n",
    "        for x in xFixed:\n",
    "            intBits.append(int(x.bits))\n",
    "\n",
    "        for y in yFixed:\n",
    "            intBits.append(int(y.bits))\n",
    "\n",
    "        for i in range(0, 16, 1):\n",
    "            self.write(i*8+16, intBits[i])\n",
    "        self.write(0x00, 1)\n",
    "        \n",
    "        qformat = {'signed': True, 'm': 16, 'n': 16}\n",
    "        retFixed = FixedPoint(0, **qformat)\n",
    "        yOut = []\n",
    "        for i in range(0, 8, 1):\n",
    "            out = self.read((i*16)+0x90)\n",
    "            retFixed.from_string(hex(out))\n",
    "            yOut.append(float(retFixed))\n",
    "            \n",
    "        return yOut"
   ]
  },
  {
   "cell_type": "code",
   "execution_count": 3,
   "id": "55dce5c0",
   "metadata": {},
   "outputs": [
    {
     "data": {
      "application/javascript": [
       "\n",
       "try {\n",
       "require(['notebook/js/codecell'], function(codecell) {\n",
       "  codecell.CodeCell.options_default.highlight_modes[\n",
       "      'magic_text/x-csrc'] = {'reg':[/^%%microblaze/]};\n",
       "  Jupyter.notebook.events.one('kernel_ready.Kernel', function(){\n",
       "      Jupyter.notebook.get_cells().map(function(cell){\n",
       "          if (cell.cell_type == 'code'){ cell.auto_highlight(); } }) ;\n",
       "  });\n",
       "});\n",
       "} catch (e) {};\n"
      ]
     },
     "metadata": {},
     "output_type": "display_data"
    },
    {
     "data": {
      "application/javascript": [
       "\n",
       "try {\n",
       "require(['notebook/js/codecell'], function(codecell) {\n",
       "  codecell.CodeCell.options_default.highlight_modes[\n",
       "      'magic_text/x-csrc'] = {'reg':[/^%%pybind11/]};\n",
       "  Jupyter.notebook.events.one('kernel_ready.Kernel', function(){\n",
       "      Jupyter.notebook.get_cells().map(function(cell){\n",
       "          if (cell.cell_type == 'code'){ cell.auto_highlight(); } }) ;\n",
       "  });\n",
       "});\n",
       "} catch (e) {};\n"
      ]
     },
     "metadata": {},
     "output_type": "display_data"
    }
   ],
   "source": [
    "overlay = Overlay('/home/xilinx/pynq/overlays/linRegOverlays/directImp_v3.bit')\n",
    "#overlay?"
   ]
  },
  {
   "cell_type": "code",
   "execution_count": 4,
   "id": "b04f14ca",
   "metadata": {},
   "outputs": [],
   "source": [
    "X_float = [-1.1, 0.1, 1.2, 2.3, 3.1, 4.1, 4.8, 5.7]\n",
    "y_float = [-1.7, 2.4, 5.0, 7.3, 10.9, 12.5, 16.2, 19.7]"
   ]
  },
  {
   "cell_type": "code",
   "execution_count": 5,
   "id": "b8321b1b",
   "metadata": {},
   "outputs": [
    {
     "name": "stdout",
     "output_type": "stream",
     "text": [
      "CPU times: user 11.6 ms, sys: 0 ns, total: 11.6 ms\n",
      "Wall time: 11.2 ms\n"
     ]
    }
   ],
   "source": [
    "%%time\n",
    "results = overlay.linReg.linReg(X_float, y_float)"
   ]
  },
  {
   "cell_type": "code",
   "execution_count": 6,
   "id": "7b21e8a5",
   "metadata": {},
   "outputs": [
    {
     "name": "stdout",
     "output_type": "stream",
     "text": [
      "[-1.9049530029296875, 1.70611572265625, 5.0161895751953125, 8.326309204101562, 10.733673095703125, 13.74285888671875, 15.849273681640625, 18.557525634765625]\n"
     ]
    }
   ],
   "source": [
    "print(results)"
   ]
  },
  {
   "cell_type": "code",
   "execution_count": null,
   "id": "14b07701",
   "metadata": {},
   "outputs": [],
   "source": []
  }
 ],
 "metadata": {
  "kernelspec": {
   "display_name": "Python 3 (ipykernel)",
   "language": "python",
   "name": "python3"
  },
  "language_info": {
   "codemirror_mode": {
    "name": "ipython",
    "version": 3
   },
   "file_extension": ".py",
   "mimetype": "text/x-python",
   "name": "python",
   "nbconvert_exporter": "python",
   "pygments_lexer": "ipython3",
   "version": "3.10.4"
  }
 },
 "nbformat": 4,
 "nbformat_minor": 5
}
