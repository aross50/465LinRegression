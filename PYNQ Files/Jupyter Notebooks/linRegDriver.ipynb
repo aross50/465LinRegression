{
 "cells": [
  {
   "cell_type": "markdown",
   "id": "a69c9e53",
   "metadata": {},
   "source": [
    "# Fixed Point Linear Regression on an FPGA\n",
    "\n",
    "This jupyter notebook defines a hardware driver so that we can interact with our Linear Regression IP directly within our python environment. It also times the hardware based implementation versus a numpy based pure software approach. \n",
    "\n",
    "For this project we use fixedpoint for conversion of floating point numbers to fixed point numbers and vice versa. We also use the Overlay and DefaultIP classes from the pynq package, which allows us to load our FPGA bitstreams onto the fabric and then interact with it in python. The DefaultIP class can then be used as a super class to define a driver to allow users to interact with the IP in one line. Numpy and matplotlib are used for the creation of random numbers for input and plotting of output respectively."
   ]
  },
  {
   "cell_type": "code",
   "execution_count": 1,
   "id": "57cb1f77",
   "metadata": {},
   "outputs": [],
   "source": [
    "from fixedpoint import FixedPoint\n",
    "from pynq import Overlay\n",
    "from pynq import DefaultIP\n",
    "import matplotlib.pyplot as plt\n",
    "import numpy as np"
   ]
  },
  {
   "cell_type": "markdown",
   "id": "b898ee99",
   "metadata": {},
   "source": [
    "## Driver Definition\n",
    "In this cell we define the driver that handles converting and sending/recieving values between the jupyter environment and the hardware accelerator. \n",
    "\n",
    "It inherits most base functionality from the DefaultIP class. This class alos allows us to define an IP source for the driver to bind to, so any overlay that gets loaded will automatically bind this funtionality to that IP within the overlay. In our case we specify that it should tie to IP spawned from our hls file called calcXTX.\n",
    "\n",
    "This is useful as it allows us to reuse this code with multiple versions of our IP as we iterate and modify our design, as it will automatically bind to our design."
   ]
  },
  {
   "cell_type": "code",
   "execution_count": 2,
   "id": "9bf31314",
   "metadata": {},
   "outputs": [],
   "source": [
    "class linRegPredDriver(DefaultIP):\n",
    "    def __init__(self, description):\n",
    "        super().__init__(description=description)\n",
    "        \n",
    "    bindto = ['xilinx.com:hls:calcXTX:1.0']\n",
    "    \n",
    "    #given array[8] of floats, x and y, will perform linear regression and return best fit y's for same input x's\n",
    "    def linReg(self, xFloat, yFloat):\n",
    "        \n",
    "        #convert inputs into fixedpoint numbers\n",
    "        xFixed = [FixedPoint(x, True, 16, 16) for x in xFloat]\n",
    "        yFixed = [FixedPoint(y, True, 16, 16) for y in yFloat]\n",
    "        \n",
    "        #get integers corresponding with bitvalues of floating point numbers\n",
    "        intBits = []\n",
    "        for x in xFixed:\n",
    "            intBits.append(int(x.bits))\n",
    "\n",
    "        for y in yFixed:\n",
    "            intBits.append(int(y.bits))\n",
    "\n",
    "        #write inputs to corresponding ports using address offsets\n",
    "        for i in range(0, 16, 1):\n",
    "            self.write(i*8+16, intBits[i])\n",
    "        \n",
    "        #send start signal\n",
    "        self.write(0x00, 1)\n",
    "        \n",
    "        #create a fixedpoint class instance for reading and converting return value back into float\n",
    "        qformat = {'signed': True, 'm': 16, 'n': 16}\n",
    "        retFixed = FixedPoint(0, **qformat)\n",
    "        yOut = []\n",
    "        for i in range(0, 8, 1):\n",
    "            #read return from ports, happens as int rep of fixed point\n",
    "            out = self.read((i*16)+0x90)\n",
    "            #convert int to hex string, use that to set fixedpoint to correct value\n",
    "            retFixed.from_string(hex(out))\n",
    "            #cast to float and append to return list\n",
    "            yOut.append(float(retFixed))\n",
    "            \n",
    "        return yOut"
   ]
  },
  {
   "cell_type": "markdown",
   "id": "17099dc1",
   "metadata": {},
   "source": [
    "## Overlay Loading\n",
    "We currently have two overlays, v3 and v4. The main difference is that v4 uses division approximation for the calculation of the inverse of our determinant, whereas v3 uses a proper divider. v3 is a little slower, and also uses more power and hardware resources. However it is slightly more accurate, and also accurate over a larger range of inputs. "
   ]
  },
  {
   "cell_type": "code",
   "execution_count": null,
   "id": "55dce5c0",
   "metadata": {},
   "outputs": [],
   "source": [
    "overlay = Overlay('/home/xilinx/pynq/overlays/linRegOverlays/directImp_v3.bit')\n",
    "#overlay?"
   ]
  },
  {
   "cell_type": "code",
   "execution_count": 3,
   "id": "87a74ff9",
   "metadata": {},
   "outputs": [
    {
     "data": {
      "application/javascript": [
       "\n",
       "try {\n",
       "require(['notebook/js/codecell'], function(codecell) {\n",
       "  codecell.CodeCell.options_default.highlight_modes[\n",
       "      'magic_text/x-csrc'] = {'reg':[/^%%microblaze/]};\n",
       "  Jupyter.notebook.events.one('kernel_ready.Kernel', function(){\n",
       "      Jupyter.notebook.get_cells().map(function(cell){\n",
       "          if (cell.cell_type == 'code'){ cell.auto_highlight(); } }) ;\n",
       "  });\n",
       "});\n",
       "} catch (e) {};\n"
      ]
     },
     "metadata": {},
     "output_type": "display_data"
    },
    {
     "data": {
      "application/javascript": [
       "\n",
       "try {\n",
       "require(['notebook/js/codecell'], function(codecell) {\n",
       "  codecell.CodeCell.options_default.highlight_modes[\n",
       "      'magic_text/x-csrc'] = {'reg':[/^%%pybind11/]};\n",
       "  Jupyter.notebook.events.one('kernel_ready.Kernel', function(){\n",
       "      Jupyter.notebook.get_cells().map(function(cell){\n",
       "          if (cell.cell_type == 'code'){ cell.auto_highlight(); } }) ;\n",
       "  });\n",
       "});\n",
       "} catch (e) {};\n"
      ]
     },
     "metadata": {},
     "output_type": "display_data"
    }
   ],
   "source": [
    "overlay = Overlay('/home/xilinx/pynq/overlays/linRegOverlays/directImp_v4.bit')\n",
    "#overlay?"
   ]
  },
  {
   "cell_type": "markdown",
   "id": "3dd4287b",
   "metadata": {},
   "source": [
    "## Input Generation\n",
    "We have three cells that provide possible inputs for our driver. The first two are inputs used by the reference paper as testing data, and so we use those as direct comparison for our results. The third one uses numpy to generate sorted arrays of 8 random floating point values with a given absolute value, and can be switched from positive or negitive regression depending on the ordering of the Y values. "
   ]
  },
  {
   "cell_type": "code",
   "execution_count": 4,
   "id": "b04f14ca",
   "metadata": {},
   "outputs": [],
   "source": [
    "X_float = [-1.1, 0.1, 1.2, 2.3, 3.1, 4.1, 4.8, 5.7]\n",
    "y_float = [-1.7, 2.4, 5.0, 7.3, 10.9, 12.5, 16.2, 19.7]"
   ]
  },
  {
   "cell_type": "code",
   "execution_count": null,
   "id": "b50710ec",
   "metadata": {},
   "outputs": [],
   "source": [
    "X_float = [-4.0, -3.3, -2.2, -0.7, 0.1, 1.1, 2.3, 3.4]\n",
    "y_float = [8.5, 7.6, 5.2, 3.9, 2.1, 0.8, 0.3, -2.1]"
   ]
  },
  {
   "cell_type": "code",
   "execution_count": null,
   "id": "6d590367",
   "metadata": {
    "scrolled": true
   },
   "outputs": [],
   "source": [
    "absMax = 35\n",
    "X_float = np.sort(np.random.uniform(low=-absMax, high=absMax, size=(8,)))\n",
    "y_float = np.sort(np.random.uniform(low=-absMax, high=absMax, size=(8,)))\n",
    "#y_float = -np.sort(-np.random.uniform(low=-absMax, high=absMax, size=(8,)))\n",
    "print(X_float, y_float)"
   ]
  },
  {
   "cell_type": "markdown",
   "id": "28a4583d",
   "metadata": {},
   "source": [
    "## Runtime\n",
    "Using jupyter notebook magic time commands we can time both the driver invocation and our direct algorithm implementation in a .py file. The driver is typically around 10X faster than the direct numpy implementation. We also use matplotlib to plot the output results from our driver against the input value, so that we can quickly visualize how well it does as a line of best fit."
   ]
  },
  {
   "cell_type": "code",
   "execution_count": 5,
   "id": "b8321b1b",
   "metadata": {},
   "outputs": [
    {
     "name": "stdout",
     "output_type": "stream",
     "text": [
      "[-1.9049530029296875, 1.70611572265625, 5.0161895751953125, 8.326309204101562, 10.733673095703125, 13.74285888671875, 15.849273681640625, 18.557525634765625]\n",
      "CPU times: user 20 ms, sys: 0 ns, total: 20 ms\n",
      "Wall time: 19.2 ms\n"
     ]
    }
   ],
   "source": [
    "%%time\n",
    "results = overlay.linReg.linReg(X_float, y_float)\n",
    "print(results)"
   ]
  },
  {
   "cell_type": "code",
   "execution_count": 6,
   "id": "14b07701",
   "metadata": {},
   "outputs": [
    {
     "data": {
      "text/plain": [
       "[<matplotlib.lines.Line2D at 0xac297f58>]"
      ]
     },
     "execution_count": 6,
     "metadata": {},
     "output_type": "execute_result"
    },
    {
     "data": {
      "image/png": "[encoded data removed]",
      "text/plain": [
       "<Figure size 432x288 with 1 Axes>"
      ]
     },
     "metadata": {
      "needs_background": "light"
     },
     "output_type": "display_data"
    }
   ],
   "source": [
    "plt.plot(X_float, y_float, color = \"#FF0000\") #Red is generated numbers\n",
    "plt.plot(X_float, results, color = \"#0000FF\") #Blue is hardware output line of best fit"
   ]
  },
  {
   "cell_type": "code",
   "execution_count": 7,
   "id": "83d9a39e",
   "metadata": {
    "scrolled": true
   },
   "outputs": [
    {
     "name": "stdout",
     "output_type": "stream",
     "text": [
      "Computed parameters: [1.41397352 3.01921841]\n",
      "Training data  Prediction     Euclidean distance\n",
      "(x, y)         Python                        \n",
      "(-1.1, -1.7)   -1.90717       0.20717        \n",
      "(0.1, 2.4)     1.71590        0.68410        \n",
      "(1.2, 5.0)     5.03704        0.03704        \n",
      "(2.3, 7.3)     8.35818        1.05818        \n",
      "(3.1, 10.9)    10.77355       0.12645        \n",
      "(4.1, 12.5)    13.79277       1.29277        \n",
      "(4.8, 16.2)    15.90622       0.29378        \n",
      "(5.7, 19.7)    18.62352       1.07648        \n",
      "CPU times: user 155 ms, sys: 51.2 ms, total: 207 ms\n",
      "Wall time: 1.74 s\n"
     ]
    }
   ],
   "source": [
    "%%time\n",
    "!python /home/xilinx/python/linear_regression_1.py"
   ]
  },
  {
   "cell_type": "markdown",
   "id": "7447bfff",
   "metadata": {},
   "source": [
    "## Limitations of Q16.16 Fixedpoint Numbers\n",
    "Beyond having limited accuracy from being a fixed point number, using signed fixed point numbers also limits our model in that it provides a relatively small maximum number we can use for our internal values during calculation of our matrix components. For example, during calculation of our determinant, we need to calculate $nb-a^2$, wher $n$ is number of inputs ($8$) and $b = \\sum_{i=0}^{n-1}x_i^2$. The maximum number we can represent in Q16.16 is roughly $32768$. Doing a bit of napkin math to find a rough maximum average absolute value of inputs $x$ we get:\n",
    "\n",
    "$$\n",
    "nb\\leq 32768 \\\\\n",
    "n(nx^2)\\leq 32768 \\\\\n",
    "8(8x^2)\\leq 32768 \\\\\n",
    "64x^2\\leq 32768\\\\\n",
    "x^2\\leq 512\\\\\n",
    "x\\leq 22.627\n",
    "$$\n",
    "\n",
    "This is doing a bit of handwaving with turning $b = \\sum_{i=0}^{n-1}x_i^2$ into $nx^2$ by claiming that we are looking for the average absolute value, but it illustrates the point that it doesn't take terribly large input numbers for these internal numbers to overflow. This determinant value is crucial for the entire operation and propagates to every value used and returned by the accelerator. As such if these values overflow, that error propagates to the entire result. This is all the more noticable for the aproxximated dvision implementation, which uses the determinant for more arithmetic operations in total.\n",
    "\n",
    "There are some possible methods to address these issues. On the hardware side we could do things such as giving the hardware more bits to work with during the calculation of these internal steps, at the cost of larger design footprints and power usage. Similarly we could instead attempt a fully floating point version, but again this would increase the hardware and power utilization, and likely runtime as well. We could also take a more software based approach, scaling the input values down to be within an acceptable range, and then scaling final outputs back up. This method would increase data processing overheads on both ends, slowing down the accelerator total time, and also decrease accuracy further as the scaling operations would each incur precision loss.\n",
    "\n",
    "Regardless, we believe this is why the original authors selected the input data they did, as the small numbers work well within this design."
   ]
  }
 ],
 "metadata": {
  "kernelspec": {
   "display_name": "Python 3 (ipykernel)",
   "language": "python",
   "name": "python3"
  },
  "language_info": {
   "codemirror_mode": {
    "name": "ipython",
    "version": 3
   },
   "file_extension": ".py",
   "mimetype": "text/x-python",
   "name": "python",
   "nbconvert_exporter": "python",
   "pygments_lexer": "ipython3",
   "version": "3.10.4"
  }
 },
 "nbformat": 4,
 "nbformat_minor": 5
}
