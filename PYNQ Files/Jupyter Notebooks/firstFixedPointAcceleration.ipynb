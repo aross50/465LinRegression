{
 "cells": [
  {
   "cell_type": "code",
   "execution_count": 12,
   "id": "4b08cd6a",
   "metadata": {},
   "outputs": [
    {
     "name": "stdout",
     "output_type": "stream",
     "text": [
      "Processing ./extraPackages/fixedpoint-1.0.1-py3-none-any.whl\n",
      "Installing collected packages: fixedpoint\n",
      "Successfully installed fixedpoint-1.0.1\n",
      "Note: you may need to restart the kernel to use updated packages.\n"
     ]
    }
   ],
   "source": [
    "%pip install extraPackages/fixedpoint-1.0.1-py3-none-any.whl"
   ]
  },
  {
   "cell_type": "code",
   "execution_count": 13,
   "id": "90f73b23",
   "metadata": {},
   "outputs": [],
   "source": [
    "from fixedpoint import FixedPoint\n",
    "from pynq import allocate\n",
    "import numpy as np"
   ]
  },
  {
   "cell_type": "code",
   "execution_count": 32,
   "id": "9a09d1b9",
   "metadata": {},
   "outputs": [],
   "source": [
    "from pynq import Overlay\n",
    "\n",
    "overlay = Overlay('/home/xilinx/pynq/overlays/linRegOverlays/directImp_v2.bit')"
   ]
  },
  {
   "cell_type": "code",
   "execution_count": 33,
   "id": "b2a4fd60",
   "metadata": {},
   "outputs": [],
   "source": [
    "thetaCalc = overlay.genTheta\n",
    "thetaCalc?"
   ]
  },
  {
   "cell_type": "code",
   "execution_count": 34,
   "id": "93f76f8a",
   "metadata": {},
   "outputs": [],
   "source": [
    "#Actual numbers\n",
    "\n",
    "X_float = [-1.1, 0.1, 1.2, 2.3, 3.1, 4.1, 4.8, 5.7]\n",
    "y_float = [-1.7, 2.4, 5.0, 7.3, 10.9, 12.5, 16.2, 19.7]"
   ]
  },
  {
   "cell_type": "code",
   "execution_count": 5,
   "id": "9c1feb1a",
   "metadata": {},
   "outputs": [],
   "source": [
    "#Test numbers to test if IP is doing things or simply printing init\n",
    "\n",
    "X_float = [-2007.1, 2003.1, 2012.2, 2006.3, 2013.1, 2010.1, 2016.8, 2020.7]\n",
    "y_float = [-2006.7, 2005.4, 2015.0, 2007.3, 2010.9, 2012.5, 2016.2, 2019.7]"
   ]
  },
  {
   "cell_type": "code",
   "execution_count": 35,
   "id": "9d81103f",
   "metadata": {
    "scrolled": true
   },
   "outputs": [
    {
     "name": "stdout",
     "output_type": "stream",
     "text": [
      "fffe4ccd\n",
      "00026666\n",
      "00050000\n",
      "00074ccd\n",
      "000ae666\n",
      "000c8000\n",
      "00103333\n",
      "0013b333\n"
     ]
    }
   ],
   "source": [
    "X_fixed = [FixedPoint(x, True, 16, 16) for x in X_float]\n",
    "y_fixed = [FixedPoint(y, True, 16, 16) for y in y_float]\n",
    "for x in y_fixed:\n",
    "    print(str(x))"
   ]
  },
  {
   "cell_type": "code",
   "execution_count": 7,
   "id": "7041416b",
   "metadata": {},
   "outputs": [
    {
     "name": "stdout",
     "output_type": "stream",
     "text": [
      "b'fffee6660000199a0001333300024ccd0003199a0004199a0004cccd0005b333'\n",
      "b'fffe4ccd000266660005000000074ccd000ae666000c8000001033330013b333'\n"
     ]
    }
   ],
   "source": [
    "xString = ''\n",
    "for x in X_fixed:\n",
    "    xString += str(x)\n",
    "xBytes = bytes(xString, 'utf-8')\n",
    "\n",
    "yString = ''\n",
    "for y in y_fixed:\n",
    "    yString += str(y)\n",
    "yBytes = bytes(yString, 'utf-8')\n",
    "\n",
    "\n",
    "print(xBytes)\n",
    "print(yBytes)"
   ]
  },
  {
   "cell_type": "code",
   "execution_count": 36,
   "id": "7e2d0ecc",
   "metadata": {},
   "outputs": [
    {
     "name": "stdout",
     "output_type": "stream",
     "text": [
      "4294895206\n",
      "<class 'fixedpoint.fixedpoint.FixedPointBits'>\n",
      "<class 'int'>\n"
     ]
    }
   ],
   "source": [
    "print(X_fixed[0].bits)\n",
    "print(type(X_fixed[0].bits))\n",
    "intBits = int(X_fixed[0].bits)\n",
    "print(type(intBits))"
   ]
  },
  {
   "cell_type": "code",
   "execution_count": 37,
   "id": "930176c9",
   "metadata": {},
   "outputs": [
    {
     "name": "stdout",
     "output_type": "stream",
     "text": [
      "[4294895206, 6554, 78643, 150733, 203162, 268698, 314573, 373555]\n",
      "[4294895206, 6554, 78643, 150733, 203162, 268698, 314573, 373555, 4294855885, 157286, 327680, 478413, 714342, 819200, 1061683, 1291059]\n"
     ]
    }
   ],
   "source": [
    "intBits = []\n",
    "for x in X_fixed:\n",
    "    intBits.append(int(x.bits))\n",
    "print(intBits)\n",
    "\n",
    "for y in y_fixed:\n",
    "    intBits.append(int(y.bits))\n",
    "print(intBits)"
   ]
  },
  {
   "cell_type": "code",
   "execution_count": 38,
   "id": "ffa237e3",
   "metadata": {},
   "outputs": [
    {
     "name": "stdout",
     "output_type": "stream",
     "text": [
      "16\n",
      "24\n",
      "32\n",
      "40\n",
      "48\n",
      "56\n",
      "64\n",
      "72\n",
      "80\n",
      "88\n",
      "96\n",
      "104\n",
      "112\n",
      "120\n",
      "128\n",
      "136\n"
     ]
    }
   ],
   "source": [
    "for i in range(0, 16, 1):\n",
    "    print(i*8+16)\n",
    "    thetaCalc.write(i*8+16, intBits[i])\n",
    "thetaCalc.write(0x00, 1)"
   ]
  },
  {
   "cell_type": "code",
   "execution_count": 39,
   "id": "e0ddc036",
   "metadata": {
    "scrolled": true
   },
   "outputs": [
    {
     "name": "stdout",
     "output_type": "stream",
     "text": [
      "4294895206\n",
      "6554\n",
      "78643\n",
      "150733\n",
      "203162\n",
      "268698\n",
      "314573\n",
      "373555\n",
      "4294855885\n",
      "157286\n",
      "327680\n",
      "478413\n",
      "714342\n",
      "819200\n",
      "1061683\n",
      "1291059\n",
      "210\n",
      "18879\n"
     ]
    }
   ],
   "source": [
    "\n",
    "\n",
    "#X's\n",
    "print(thetaCalc.read(0x10))\n",
    "print(thetaCalc.read(0x18))\n",
    "print(thetaCalc.read(0x20))\n",
    "print(thetaCalc.read(0x28))\n",
    "print(thetaCalc.read(0x30))\n",
    "print(thetaCalc.read(0x38))\n",
    "print(thetaCalc.read(0x40))\n",
    "print(thetaCalc.read(0x48))\n",
    "\n",
    "\n",
    "#Y's\n",
    "print(thetaCalc.read(0x50))\n",
    "print(thetaCalc.read(0x58))\n",
    "print(thetaCalc.read(0x60))\n",
    "print(thetaCalc.read(0x68))\n",
    "print(thetaCalc.read(0x70))\n",
    "print(thetaCalc.read(0x78))\n",
    "print(thetaCalc.read(0x80))\n",
    "print(thetaCalc.read(0x88))\n",
    "\n",
    "\n",
    "#Theta's?\n",
    "print(thetaCalc.read(0x90))\n",
    "print(thetaCalc.read(0xa0))"
   ]
  },
  {
   "cell_type": "code",
   "execution_count": 40,
   "id": "1d18f84c",
   "metadata": {},
   "outputs": [
    {
     "name": "stdout",
     "output_type": "stream",
     "text": [
      "18879\n",
      "b'\\x00\\x00I\\xbf'\n",
      "<class 'bytes'>\n",
      "0x49bf\n"
     ]
    }
   ],
   "source": [
    "out = thetaCalc.read(0xa0)\n",
    "print(out)\n",
    "print(out.to_bytes(4, 'big'))\n",
    "print(type(out.to_bytes(4, 'big')))\n",
    "print(hex(out))"
   ]
  },
  {
   "cell_type": "code",
   "execution_count": 41,
   "id": "4b1671ef",
   "metadata": {},
   "outputs": [
    {
     "name": "stdout",
     "output_type": "stream",
     "text": [
      "00000000\n",
      "000049bf\n"
     ]
    },
    {
     "data": {
      "text/plain": [
       "0.2880706787109375"
      ]
     },
     "execution_count": 41,
     "metadata": {},
     "output_type": "execute_result"
    }
   ],
   "source": [
    "# Q16.16\n",
    "qformat = {'signed': True, 'm': 16, 'n': 16}\n",
    "\n",
    "# A single instance\n",
    "x = FixedPoint(0, **qformat)\n",
    "print(x)\n",
    "x.from_string(hex(out))\n",
    "print(x)\n",
    "float(x)"
   ]
  },
  {
   "cell_type": "code",
   "execution_count": 44,
   "id": "c564897d",
   "metadata": {},
   "outputs": [
    {
     "name": "stdout",
     "output_type": "stream",
     "text": [
      "00000000\n",
      "fffee666\n"
     ]
    },
    {
     "data": {
      "text/plain": [
       "-1.100006103515625"
      ]
     },
     "execution_count": 44,
     "metadata": {},
     "output_type": "execute_result"
    }
   ],
   "source": [
    "# Q16.16\n",
    "qformat = {'signed': True, 'm': 16, 'n': 16}\n",
    "\n",
    "# A single instance\n",
    "x = FixedPoint(0, **qformat)\n",
    "print(x)\n",
    "x.from_string(hex(thetaCalc.read(0x10)))\n",
    "print(x)\n",
    "float(x)"
   ]
  },
  {
   "cell_type": "code",
   "execution_count": 27,
   "id": "93c5ba0a",
   "metadata": {},
   "outputs": [
    {
     "name": "stdout",
     "output_type": "stream",
     "text": [
      "00000000\n",
      "00000200\n"
     ]
    },
    {
     "data": {
      "text/plain": [
       "0.0078125"
      ]
     },
     "execution_count": 27,
     "metadata": {},
     "output_type": "execute_result"
    }
   ],
   "source": [
    "# Q16.16\n",
    "qformat = {'signed': True, 'm': 16, 'n': 16}\n",
    "\n",
    "# A single instance\n",
    "x = FixedPoint(0, **qformat)\n",
    "print(x)\n",
    "x.from_string(hex(0x00000200))\n",
    "print(x)\n",
    "float(x)"
   ]
  },
  {
   "cell_type": "code",
   "execution_count": 43,
   "id": "4fac7e03",
   "metadata": {},
   "outputs": [
    {
     "name": "stdout",
     "output_type": "stream",
     "text": [
      "00000000\n",
      "000000d3\n"
     ]
    },
    {
     "data": {
      "text/plain": [
       "0.0032196044921875"
      ]
     },
     "execution_count": 43,
     "metadata": {},
     "output_type": "execute_result"
    }
   ],
   "source": [
    "# Q16.16\n",
    "qformat = {'signed': True, 'm': 16, 'n': 16}\n",
    "\n",
    "# A single instance\n",
    "x = FixedPoint(0, **qformat)\n",
    "print(x)\n",
    "x.from_float(0.003213)\n",
    "print(x)\n",
    "float(x)"
   ]
  },
  {
   "cell_type": "code",
   "execution_count": 25,
   "id": "3052a835",
   "metadata": {},
   "outputs": [
    {
     "data": {
      "text/plain": [
       "str"
      ]
     },
     "execution_count": 25,
     "metadata": {},
     "output_type": "execute_result"
    }
   ],
   "source": [
    "type(hex(1024))"
   ]
  },
  {
   "cell_type": "code",
   "execution_count": 133,
   "id": "6e285ac9",
   "metadata": {},
   "outputs": [],
   "source": [
    "thetaCalc.write(0x00, 1)\n"
   ]
  },
  {
   "cell_type": "code",
   "execution_count": 53,
   "id": "4210cb99",
   "metadata": {},
   "outputs": [
    {
     "name": "stdout",
     "output_type": "stream",
     "text": [
      "4294895206\n",
      "4294895206\n"
     ]
    }
   ],
   "source": [
    "print(thetaCalc.read(0x10))\n",
    "print(thetaCalc.read(16))"
   ]
  },
  {
   "cell_type": "code",
   "execution_count": 13,
   "id": "60e46066",
   "metadata": {},
   "outputs": [
    {
     "name": "stdout",
     "output_type": "stream",
     "text": [
      "1701209702\n",
      "808464432\n",
      "825241648\n",
      "842018864\n",
      "858796080\n",
      "875573296\n",
      "875573296\n",
      "892350512\n",
      "1701209702\n",
      "842018864\n",
      "892350512\n",
      "925904944\n",
      "1630548016\n",
      "1664102448\n",
      "808529968\n",
      "858861616\n",
      "0\n",
      "3610303960\n"
     ]
    }
   ],
   "source": [
    "#X's\n",
    "print(thetaCalc.read(0x10))\n",
    "print(thetaCalc.read(0x18))\n",
    "print(thetaCalc.read(0x20))\n",
    "print(thetaCalc.read(0x28))\n",
    "print(thetaCalc.read(0x30))\n",
    "print(thetaCalc.read(0x38))\n",
    "print(thetaCalc.read(0x40))\n",
    "print(thetaCalc.read(0x48))\n",
    "\n",
    "\n",
    "#Y's\n",
    "print(thetaCalc.read(0x50))\n",
    "print(thetaCalc.read(0x58))\n",
    "print(thetaCalc.read(0x60))\n",
    "print(thetaCalc.read(0x68))\n",
    "print(thetaCalc.read(0x70))\n",
    "print(thetaCalc.read(0x78))\n",
    "print(thetaCalc.read(0x80))\n",
    "print(thetaCalc.read(0x88))\n",
    "\n",
    "\n",
    "#Theta's?\n",
    "print(thetaCalc.read(0x90))\n",
    "print(thetaCalc.read(0xa0))"
   ]
  },
  {
   "cell_type": "code",
   "execution_count": null,
   "id": "b45acb02",
   "metadata": {},
   "outputs": [],
   "source": []
  },
  {
   "cell_type": "code",
   "execution_count": null,
   "id": "8f450b1e",
   "metadata": {},
   "outputs": [],
   "source": []
  }
 ],
 "metadata": {
  "kernelspec": {
   "display_name": "Python 3 (ipykernel)",
   "language": "python",
   "name": "python3"
  },
  "language_info": {
   "codemirror_mode": {
    "name": "ipython",
    "version": 3
   },
   "file_extension": ".py",
   "mimetype": "text/x-python",
   "name": "python",
   "nbconvert_exporter": "python",
   "pygments_lexer": "ipython3",
   "version": "3.10.4"
  }
 },
 "nbformat": 4,
 "nbformat_minor": 5
}
